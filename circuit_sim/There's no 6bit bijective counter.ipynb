{
 "cells": [
  {
   "cell_type": "markdown",
   "metadata": {},
   "source": [
    "# There is no bijective 6bit counter\n",
    "\n",
    "We want to show that it is not possible to enumerate numbers from 0 to 63 (in any order) with a 6 bit circuit in a **bijective** way.       \n",
    "Indeed a counter is either a bijection or an almost bijection where the loop does not go back to the beginin.  \n",
    "We check here for bijective counters.   \n",
    "We don't want to bruteforce over all circuits (there are 2^44 circuits which makes about 17 000 billions).\n",
    "## How to reduce the search space ?\n",
    "We reduce our search space with the following method:   \n",
    "In an enumeration of all 6 bits strings what is the behavior of the two first bits ?    \n",
    "They will do all 2 bits sequences: 00, 10, 01, 11   \n",
    "The question is how many times ?   \n",
    "By symmetry it will be 64/4 = 16 each     \n",
    "Let's be sure with the following calculation:"
   ]
  },
  {
   "cell_type": "code",
   "execution_count": 1,
   "metadata": {
    "collapsed": false
   },
   "outputs": [
    {
     "name": "stdout",
     "output_type": "stream",
     "text": [
      "00 16\n",
      "01 16\n",
      "10 16\n",
      "11 16\n"
     ]
    }
   ],
   "source": [
    "import itertools\n",
    "all6b = list(itertools.product([0,1],repeat=6))\n",
    "count_first2b = {}\n",
    "for seq in all6b:\n",
    "    seq_str2b = str(seq[0])+str(seq[1])\n",
    "    if not seq_str2b in count_first2b:\n",
    "        count_first2b[seq_str2b] = 0\n",
    "    count_first2b[seq_str2b] += 1\n",
    "for seq_2b in count_first2b:\n",
    "    print(seq_2b + \" \" + str(count_first2b[seq_2b]))"
   ]
  },
  {
   "cell_type": "markdown",
   "metadata": {},
   "source": [
    "**Hence** the part of our network controlling the first two bits will have to have the property to make appear 00, 01, 10, 11, 16 times each, no matters of the order.    \n",
    "We call this the **\"4*16\" property**.    \n",
    "This part of the network is a function of x_0, x_1 and x_2 that outputs 2 bits.    \n",
    "Its structure is quite small since we have 4 choices for gate 1, 256 for gate 2 and 16 for gate 3 (as we only take its UP output).   \n",
    "**Over all we can iterate over all 4x256x16=16384 functions and juste keep the ones that have our \"4*16\" property.**"
   ]
  },
  {
   "cell_type": "markdown",
   "metadata": {},
   "source": [
    "## Finding the \"4*16\" functions\n",
    "### Encoding circuits\n",
    "To encode our networks we specify its gates. Here:  \n",
    "- Gate 1 is a {0,1} -> {0,1} function\n",
    "- Gate 2 is a {0,1}^2 -> {0,1}^2 function   \n",
    "- Gate 3 is a {0,1}^2 -> {0,1} function (we only take the UP output)     \n",
    "\n",
    "We encode these functions in the following way:   \n",
    "\n",
    "- g1: {0,1} -> {0,1}  will be a 2-tuple of bits (f(0),f(1))\n",
    "- g2: {0,1}^2 -> {0,1}^2 will be a 4-tuple of 2bits (f(00),f(01),f(10),f(11))\n",
    "- g3U: {0,1}^2 -> {0,1} will be a 4-tuple of bits (f(00),f(01),f(10),f(11))  \n",
    "\n",
    "A circuit here will be a 3-tuple (g1,g2,g3U).       \n",
    "\n",
    "Here we construct all these circuits:     \n"
   ]
  },
  {
   "cell_type": "code",
   "execution_count": 2,
   "metadata": {
    "collapsed": false
   },
   "outputs": [
    {
     "name": "stdout",
     "output_type": "stream",
     "text": [
      "Example of circuit on x1 x2 x3: (('0', '0'), ('00', '00', '00', '00'), ('0', '0', '0', '0'))\n"
     ]
    }
   ],
   "source": [
    "# This function gives the list of all networks\n",
    "# inputing x0 x1 x2 and processing for 2 bits output\n",
    "def list_all_circuits_2b_x012():\n",
    "    all_g1 = list(itertools.product(['0','1'],repeat=2))\n",
    "    all_g2 = list(itertools.product(['00','01','10','11'],repeat=4))\n",
    "    all_g3U = list(itertools.product(['0','1'],repeat=4))\n",
    "    all_circuits2b_x012 = list(itertools.product(all_g1,all_g2,all_g3U))\n",
    "    return all_circuits2b_x012\n",
    "all_2bc_x012 = list_all_circuits_2b_x012()\n",
    "print(\"Example of circuit on x1 x2 x3: \"+str(all_2bc_x012[0]))"
   ]
  },
  {
   "cell_type": "markdown",
   "metadata": {},
   "source": [
    "Then we define the computation inside these 2bits output networks:"
   ]
  },
  {
   "cell_type": "code",
   "execution_count": 3,
   "metadata": {
    "collapsed": false
   },
   "outputs": [],
   "source": [
    "# Given a 2 bits circuit c and an input x\n",
    "# the following function computes the circuit's output\n",
    "def output_of_2b_x012(c,x):  \n",
    "    output_g1 = int(c[0][x[0]])\n",
    "    output_g3U = int(c[2][2*x[1]+x[2]])\n",
    "    output_g2 = c[1][2*output_g1+output_g3U]\n",
    "    return output_g2"
   ]
  },
  {
   "cell_type": "markdown",
   "metadata": {},
   "source": [
    "**Now** we construct the predicate for a network to have the \"4*16\" property:"
   ]
  },
  {
   "cell_type": "code",
   "execution_count": 4,
   "metadata": {
    "collapsed": true
   },
   "outputs": [],
   "source": [
    "def has_4x16(c, outputing_f):\n",
    "    seen_2b = {}\n",
    "    for seq_6b in all6b:\n",
    "        out = outputing_f(c,seq_6b)\n",
    "        if not out in seen_2b:\n",
    "            seen_2b[out] = 0\n",
    "        seen_2b[out] += 1\n",
    "    if len(seen_2b) == 4:\n",
    "        for seq_2b in seen_2b:\n",
    "            if seen_2b[seq_2b] != 16:\n",
    "                return False\n",
    "        return True\n",
    "    return False"
   ]
  },
  {
   "cell_type": "markdown",
   "metadata": {},
   "source": [
    "**Now** Let's grab them all:"
   ]
  },
  {
   "cell_type": "code",
   "execution_count": 5,
   "metadata": {
    "collapsed": false
   },
   "outputs": [],
   "source": [
    "all_4x16_x012 = []\n",
    "for c in all_2bc_x012:\n",
    "    if has_4x16(c,output_of_2b_x012):\n",
    "        all_4x16_x012.append(c)"
   ]
  },
  {
   "cell_type": "code",
   "execution_count": 6,
   "metadata": {
    "collapsed": false
   },
   "outputs": [
    {
     "name": "stdout",
     "output_type": "stream",
     "text": [
      "There are 288 4x16 2b circuits on x0, x1, x2 with 4x16 prop\n"
     ]
    }
   ],
   "source": [
    "print(\"There are \"+str(len(all_4x16_x012))+\" 4x16 2b circuits on x0, x1, x2 with 4x16 prop\")"
   ]
  },
  {
   "cell_type": "markdown",
   "metadata": {},
   "source": [
    "### Getting rid of redundancy\n",
    "But some of them are equivalents in the sense they compute the same function, an other way to **reduce our search space** is to keep one represent of each class of function that is calculated, that what does the following."
   ]
  },
  {
   "cell_type": "code",
   "execution_count": 7,
   "metadata": {
    "collapsed": false
   },
   "outputs": [
    {
     "name": "stdout",
     "output_type": "stream",
     "text": [
      "It remains 72 circuits.\n"
     ]
    }
   ],
   "source": [
    "unique_4x16_x012 = {}\n",
    "for c in all_4x16_x012:\n",
    "    all3b = itertools.product([0,1],repeat=3)\n",
    "    r = \"\"\n",
    "    for seq_3b in all3b:\n",
    "        r += output_of_2b_x012(c,seq_3b)\n",
    "    unique_4x16_x012[r] = c\n",
    "good_4x16_x012 = []\n",
    "for r in unique_4x16_x012:\n",
    "    good_4x16_x012.append(unique_4x16_x012[r])\n",
    "print(\"It remains \"+str(len(good_4x16_x012))+\" circuits.\")"
   ]
  },
  {
   "cell_type": "markdown",
   "metadata": {},
   "source": [
    "Something **remarkable** is that all the remaining circuits have the same gate 1 which is set to **copy** mode (0,1).  \n",
    "You can verify it by looking at them all: "
   ]
  },
  {
   "cell_type": "code",
   "execution_count": 8,
   "metadata": {
    "collapsed": false,
    "scrolled": true
   },
   "outputs": [
    {
     "name": "stdout",
     "output_type": "stream",
     "text": [
      "c0 (('1', '0'), ('11', '10', '01', '00'), ('1', '1', '0', '0'))\n",
      "c1 (('1', '0'), ('11', '10', '01', '00'), ('1', '0', '1', '0'))\n",
      "c2 (('1', '0'), ('11', '10', '01', '00'), ('1', '0', '0', '1'))\n",
      "c3 (('1', '0'), ('11', '10', '01', '00'), ('0', '1', '1', '0'))\n",
      "c4 (('1', '0'), ('11', '10', '01', '00'), ('0', '1', '0', '1'))\n",
      "c5 (('1', '0'), ('11', '10', '01', '00'), ('0', '0', '1', '1'))\n",
      "c6 (('1', '0'), ('11', '10', '00', '01'), ('0', '0', '1', '1'))\n",
      "c7 (('1', '0'), ('11', '10', '00', '01'), ('0', '1', '0', '1'))\n",
      "c8 (('1', '0'), ('11', '10', '00', '01'), ('0', '1', '1', '0'))\n",
      "c9 (('1', '0'), ('11', '10', '00', '01'), ('1', '0', '0', '1'))\n",
      "c10 (('1', '0'), ('11', '10', '00', '01'), ('1', '0', '1', '0'))\n",
      "c11 (('1', '0'), ('11', '10', '00', '01'), ('1', '1', '0', '0'))\n",
      "c12 (('1', '0'), ('11', '01', '10', '00'), ('1', '1', '0', '0'))\n",
      "c13 (('1', '0'), ('11', '01', '10', '00'), ('1', '0', '1', '0'))\n",
      "c14 (('1', '0'), ('11', '01', '10', '00'), ('1', '0', '0', '1'))\n",
      "c15 (('1', '0'), ('11', '01', '10', '00'), ('0', '1', '1', '0'))\n",
      "c16 (('1', '0'), ('11', '01', '10', '00'), ('0', '1', '0', '1'))\n",
      "c17 (('1', '0'), ('11', '01', '10', '00'), ('0', '0', '1', '1'))\n",
      "c18 (('1', '0'), ('11', '01', '00', '10'), ('0', '0', '1', '1'))\n",
      "c19 (('1', '0'), ('11', '01', '00', '10'), ('0', '1', '0', '1'))\n",
      "c20 (('1', '0'), ('11', '01', '00', '10'), ('0', '1', '1', '0'))\n",
      "c21 (('1', '0'), ('11', '01', '00', '10'), ('1', '0', '0', '1'))\n",
      "c22 (('1', '0'), ('11', '01', '00', '10'), ('1', '0', '1', '0'))\n",
      "c23 (('1', '0'), ('11', '01', '00', '10'), ('1', '1', '0', '0'))\n",
      "c24 (('1', '0'), ('10', '01', '11', '00'), ('1', '1', '0', '0'))\n",
      "c25 (('1', '0'), ('10', '01', '11', '00'), ('1', '0', '1', '0'))\n",
      "c26 (('1', '0'), ('10', '01', '11', '00'), ('1', '0', '0', '1'))\n",
      "c27 (('1', '0'), ('10', '01', '11', '00'), ('0', '1', '1', '0'))\n",
      "c28 (('1', '0'), ('10', '01', '11', '00'), ('0', '1', '0', '1'))\n",
      "c29 (('1', '0'), ('10', '01', '11', '00'), ('0', '0', '1', '1'))\n",
      "c30 (('1', '0'), ('10', '01', '00', '11'), ('0', '0', '1', '1'))\n",
      "c31 (('1', '0'), ('10', '01', '00', '11'), ('0', '1', '0', '1'))\n",
      "c32 (('1', '0'), ('10', '01', '00', '11'), ('0', '1', '1', '0'))\n",
      "c33 (('1', '0'), ('10', '01', '00', '11'), ('1', '0', '0', '1'))\n",
      "c34 (('1', '0'), ('10', '01', '00', '11'), ('1', '0', '1', '0'))\n",
      "c35 (('1', '0'), ('10', '01', '00', '11'), ('1', '1', '0', '0'))\n",
      "c36 (('1', '0'), ('11', '00', '10', '01'), ('1', '1', '0', '0'))\n",
      "c37 (('1', '0'), ('11', '00', '10', '01'), ('1', '0', '1', '0'))\n",
      "c38 (('1', '0'), ('11', '00', '10', '01'), ('1', '0', '0', '1'))\n",
      "c39 (('1', '0'), ('11', '00', '10', '01'), ('0', '1', '1', '0'))\n",
      "c40 (('1', '0'), ('11', '00', '10', '01'), ('0', '1', '0', '1'))\n",
      "c41 (('1', '0'), ('11', '00', '10', '01'), ('0', '0', '1', '1'))\n",
      "c42 (('1', '0'), ('11', '00', '01', '10'), ('0', '0', '1', '1'))\n",
      "c43 (('1', '0'), ('11', '00', '01', '10'), ('0', '1', '0', '1'))\n",
      "c44 (('1', '0'), ('11', '00', '01', '10'), ('0', '1', '1', '0'))\n",
      "c45 (('1', '0'), ('11', '00', '01', '10'), ('1', '0', '0', '1'))\n",
      "c46 (('1', '0'), ('11', '00', '01', '10'), ('1', '0', '1', '0'))\n",
      "c47 (('1', '0'), ('11', '00', '01', '10'), ('1', '1', '0', '0'))\n",
      "c48 (('1', '0'), ('10', '00', '11', '01'), ('1', '1', '0', '0'))\n",
      "c49 (('1', '0'), ('10', '00', '11', '01'), ('1', '0', '1', '0'))\n",
      "c50 (('1', '0'), ('10', '00', '11', '01'), ('1', '0', '0', '1'))\n",
      "c51 (('1', '0'), ('10', '00', '11', '01'), ('0', '1', '1', '0'))\n",
      "c52 (('1', '0'), ('10', '00', '11', '01'), ('0', '1', '0', '1'))\n",
      "c53 (('1', '0'), ('10', '00', '11', '01'), ('0', '0', '1', '1'))\n",
      "c54 (('1', '0'), ('10', '00', '01', '11'), ('0', '0', '1', '1'))\n",
      "c55 (('1', '0'), ('10', '00', '01', '11'), ('0', '1', '0', '1'))\n",
      "c56 (('1', '0'), ('10', '00', '01', '11'), ('0', '1', '1', '0'))\n",
      "c57 (('1', '0'), ('10', '00', '01', '11'), ('1', '0', '0', '1'))\n",
      "c58 (('1', '0'), ('10', '00', '01', '11'), ('1', '0', '1', '0'))\n",
      "c59 (('1', '0'), ('10', '00', '01', '11'), ('1', '1', '0', '0'))\n",
      "c60 (('1', '0'), ('01', '00', '11', '10'), ('1', '1', '0', '0'))\n",
      "c61 (('1', '0'), ('01', '00', '11', '10'), ('1', '0', '1', '0'))\n",
      "c62 (('1', '0'), ('01', '00', '11', '10'), ('1', '0', '0', '1'))\n",
      "c63 (('1', '0'), ('01', '00', '11', '10'), ('0', '1', '1', '0'))\n",
      "c64 (('1', '0'), ('01', '00', '11', '10'), ('0', '1', '0', '1'))\n",
      "c65 (('1', '0'), ('01', '00', '11', '10'), ('0', '0', '1', '1'))\n",
      "c66 (('1', '0'), ('01', '00', '10', '11'), ('0', '0', '1', '1'))\n",
      "c67 (('1', '0'), ('01', '00', '10', '11'), ('0', '1', '0', '1'))\n",
      "c68 (('1', '0'), ('01', '00', '10', '11'), ('0', '1', '1', '0'))\n",
      "c69 (('1', '0'), ('01', '00', '10', '11'), ('1', '0', '0', '1'))\n",
      "c70 (('1', '0'), ('01', '00', '10', '11'), ('1', '0', '1', '0'))\n",
      "c71 (('1', '0'), ('01', '00', '10', '11'), ('1', '1', '0', '0'))\n"
     ]
    }
   ],
   "source": [
    "for (i,c) in enumerate(good_4x16_x012):\n",
    "    print(\"c\"+str(i)+\" \"+str(c))"
   ]
  },
  {
   "cell_type": "markdown",
   "metadata": {},
   "source": [
    "## We do the same for x3,x4,x5 (2 lasts bits)!!"
   ]
  },
  {
   "cell_type": "code",
   "execution_count": 9,
   "metadata": {
    "collapsed": false
   },
   "outputs": [
    {
     "name": "stdout",
     "output_type": "stream",
     "text": [
      "Example of circuit on x3 x4 x5: (('0', '0', '0', '0'), ('00', '00', '00', '00'), ('0', '0'))\n"
     ]
    }
   ],
   "source": [
    "# This function gives the list of all networks\n",
    "# inputing x3 x4 x5 and processing for 2 bits output\n",
    "def list_all_circuits_2b_x345():\n",
    "    all_g5D = list(itertools.product(['0','1'],repeat=4))\n",
    "    all_g6 = list(itertools.product(['00','01','10','11'],repeat=4))\n",
    "    all_g7 = list(itertools.product(['0','1'],repeat=2))\n",
    "    all_circuits2b_x345 = list(itertools.product(all_g5D,all_g6,all_g7))\n",
    "    return all_circuits2b_x345\n",
    "all_2bc_x345 = list_all_circuits_2b_x345()\n",
    "print(\"Example of circuit on x3 x4 x5: \"+str(all_2bc_x345[0]))"
   ]
  },
  {
   "cell_type": "code",
   "execution_count": 10,
   "metadata": {
    "collapsed": true
   },
   "outputs": [],
   "source": [
    "# Given a 2 bits circuit c and an input x\n",
    "# the following function computes the circuit's output\n",
    "def output_of_2b_x345(c,x):  \n",
    "    output_g5D = int(c[0][2*x[3]+x[4]])\n",
    "    output_g7 = int(c[2][x[5]])\n",
    "    output_g6 = c[1][2*output_g5D+output_g7]\n",
    "    return output_g6"
   ]
  },
  {
   "cell_type": "code",
   "execution_count": 11,
   "metadata": {
    "collapsed": false
   },
   "outputs": [],
   "source": [
    "all_4x16_x345 = []\n",
    "for c in all_2bc_x345:\n",
    "    if has_4x16(c,output_of_2b_x345):\n",
    "        all_4x16_x345.append(c)"
   ]
  },
  {
   "cell_type": "code",
   "execution_count": 63,
   "metadata": {
    "collapsed": false
   },
   "outputs": [
    {
     "name": "stdout",
     "output_type": "stream",
     "text": [
      "There are 288 4x16 2b circuits on x3, x4, x5\n"
     ]
    }
   ],
   "source": [
    "print(\"There are \"+str(len(all_4x16_x345))+\" 4x16 2b circuits on x3, x4, x5\")"
   ]
  },
  {
   "cell_type": "code",
   "execution_count": 13,
   "metadata": {
    "collapsed": false
   },
   "outputs": [
    {
     "name": "stdout",
     "output_type": "stream",
     "text": [
      "It remains 72 circuits on x3, x4, x5 with 4x16 prop.\n"
     ]
    }
   ],
   "source": [
    "unique_4x16_x345 = {}\n",
    "for c in all_4x16_x345:\n",
    "    all3b = itertools.product([0,1],repeat=3)\n",
    "    r = \"\"\n",
    "    for seq_3b in all3b:\n",
    "        r += output_of_2b_x345(c,(0,0,0)+seq_3b)\n",
    "    unique_4x16_x345[r] = c\n",
    "good_4x16_x345 = []\n",
    "for r in unique_4x16_x345:\n",
    "    good_4x16_x345.append(unique_4x16_x345[r])\n",
    "print(\"It remains \"+str(len(good_4x16_x345))+\" circuits on x3, x4, x5 with 4x16 prop.\")"
   ]
  },
  {
   "cell_type": "markdown",
   "metadata": {},
   "source": [
    "## Now what ? We do the same for x1,x2,x3,x4 (middle bits) !!!\n",
    "The 4x16 property should be true also for the two outputs bits of the middle.  \n",
    "They are ruled by a function of x1,x2,x3,x4 we should again compute all networks!!!"
   ]
  },
  {
   "cell_type": "code",
   "execution_count": 14,
   "metadata": {
    "collapsed": false
   },
   "outputs": [
    {
     "name": "stdout",
     "output_type": "stream",
     "text": [
      "There are 65536 circuits on x1,x2,x3,x4\n"
     ]
    }
   ],
   "source": [
    "# This function gives the list of all networks\n",
    "# inputing x3 x4 x5 and processing for 2 bits output\n",
    "def list_all_circuits_2b_x1234():\n",
    "    all_g3D = list(itertools.product(['0','1'],repeat=4))\n",
    "    all_g4 = list(itertools.product(['00','01','10','11'],repeat=4))\n",
    "    all_g5U = list(itertools.product(['0','1'],repeat=4))\n",
    "    all_circuits2b_x1234 = list(itertools.product(all_g3D,all_g4,all_g5U))\n",
    "    return all_circuits2b_x1234\n",
    "all_2bc_x1234 = list_all_circuits_2b_x1234()\n",
    "print(\"There are \"+str(len(all_2bc_x1234))+\" circuits on x1,x2,x3,x4\")"
   ]
  },
  {
   "cell_type": "code",
   "execution_count": 15,
   "metadata": {
    "collapsed": true
   },
   "outputs": [],
   "source": [
    "# Given a 2 bits circuit c and an input x\n",
    "# the following function computes the circuit's output\n",
    "def output_of_2b_x1234(c,x):  \n",
    "    output_g3D = int(c[0][2*x[1]+x[2]])\n",
    "    output_g5U = int(c[2][2*x[3]+x[4]])\n",
    "    output_g4 = c[1][2*output_g3D+output_g5U]\n",
    "    return output_g4"
   ]
  },
  {
   "cell_type": "code",
   "execution_count": 16,
   "metadata": {
    "collapsed": false
   },
   "outputs": [
    {
     "name": "stdout",
     "output_type": "stream",
     "text": [
      "It remains 11344 circuits on x1, x2, x3, x4.\n"
     ]
    }
   ],
   "source": [
    "unique_x1234 = {}\n",
    "for c in all_2bc_x1234:\n",
    "    all4b = itertools.product([0,1],repeat=4)\n",
    "    r = \"\"\n",
    "    for seq_4b in all4b:\n",
    "        r += output_of_2b_x1234(c,(0,seq_4b[0],seq_4b[1],seq_4b[2],seq_4b[3],0))\n",
    "    unique_x1234[r] = c\n",
    "good_x1234 = []\n",
    "for r in unique_x1234:\n",
    "    good_x1234.append(unique_x1234[r])\n",
    "print(\"It remains \"+str(len(good_x1234))+\" circuits on x1, x2, x3, x4.\")"
   ]
  },
  {
   "cell_type": "code",
   "execution_count": 17,
   "metadata": {
    "collapsed": false
   },
   "outputs": [],
   "source": [
    "good_4x16_x1234 = []\n",
    "for c in good_x1234:\n",
    "    if has_4x16(c,output_of_2b_x1234):\n",
    "        good_4x16_x1234.append(c)"
   ]
  },
  {
   "cell_type": "code",
   "execution_count": 18,
   "metadata": {
    "collapsed": false
   },
   "outputs": [
    {
     "name": "stdout",
     "output_type": "stream",
     "text": [
      "There are 216 circuits on x1, x2, x3, x4 with 4x16 prop.\n"
     ]
    }
   ],
   "source": [
    "print(\"There are \"+str(len(good_4x16_x1234))+\" circuits on x1, x2, x3, x4 with 4x16 prop.\")"
   ]
  },
  {
   "cell_type": "markdown",
   "metadata": {},
   "source": [
    "# The answer"
   ]
  },
  {
   "cell_type": "code",
   "execution_count": 19,
   "metadata": {
    "collapsed": false
   },
   "outputs": [],
   "source": [
    "all_eligible_c = list(itertools.product(good_4x16_x012,good_4x16_x1234,good_4x16_x345))"
   ]
  },
  {
   "cell_type": "code",
   "execution_count": 40,
   "metadata": {
    "collapsed": false
   },
   "outputs": [],
   "source": [
    "def output_of_6bc(c,x):\n",
    "    x = (int(x[0]),int(x[1]),int(x[2]),int(x[3]),int(x[4]),int(x[5]))\n",
    "    g1 = c[0][0]\n",
    "    g2 = c[0][1]\n",
    "    g3U = c[0][2]\n",
    "    g3D = c[1][0]\n",
    "    g4 = c[1][1]\n",
    "    g5U = c[1][2]\n",
    "    g5D = c[2][0]\n",
    "    g6 = c[2][1]\n",
    "    g7 = c[2][2]\n",
    "    output_g1 = int(g1[x[0]])\n",
    "    output_g3U = int(g3U[2*x[1]+x[2]])\n",
    "    output_g3D = int(g3D[2*x[1]+x[2]])\n",
    "    output_g5U = int(g5U[2*x[3]+x[4]])\n",
    "    output_g5D = int(g5D[2*x[3]+x[4]])\n",
    "    output_g7 = int(g7[x[5]])\n",
    "    #print(g7)\n",
    "    #print(output_g1)\n",
    "    #print(output_g3U)\n",
    "    #print(output_g3D)\n",
    "    #print(output_g5U)\n",
    "    #print(output_g5D)\n",
    "    #print(output_g7)\n",
    "    #print(g5U)\n",
    "    #print(g5D)\n",
    "    \n",
    "    output_g2 = g2[2*output_g1+output_g3U]\n",
    "    output_g4 = g4[2*output_g3D+output_g5U]\n",
    "    output_g6 = g6[2*output_g5D+output_g7]\n",
    "    #print(\"ooo\"+str(g6))\n",
    "    \n",
    "    return output_g2+output_g4+output_g6"
   ]
  },
  {
   "cell_type": "code",
   "execution_count": 23,
   "metadata": {
    "collapsed": false
   },
   "outputs": [],
   "source": [
    "how_many_sees = {}\n",
    "c64 = []\n",
    "for c in all_eligible_c:\n",
    "    seen = {}\n",
    "    for seq_6b in all6b:\n",
    "        out = output_of_6bc(c,seq_6b)\n",
    "        seen[out] = 1\n",
    "    how_many_sees[len(seen)] = c\n",
    "    if len(seen) == 64:\n",
    "        c64.append(c)"
   ]
  },
  {
   "cell_type": "code",
   "execution_count": 24,
   "metadata": {
    "collapsed": false
   },
   "outputs": [
    {
     "name": "stdout",
     "output_type": "stream",
     "text": [
      "497664\n"
     ]
    }
   ],
   "source": [
    "print(how_many_sees)\n",
    "print(len(c64))"
   ]
  },
  {
   "cell_type": "code",
   "execution_count": 58,
   "metadata": {
    "collapsed": false
   },
   "outputs": [],
   "source": [
    "def to_dec(seq_6b):\n",
    "    r = 0\n",
    "    for (i,b) in enumerate(seq_6b):\n",
    "        r += int(b)*(2**i)\n",
    "    return r\n",
    "\n",
    "def how_many_orbits(c,p=False,o_size=[]):\n",
    "    nb_o = 0\n",
    "    seen_x = {}\n",
    "    \n",
    "    for seq_6b in all6b:\n",
    "        curr_state = seq_6b\n",
    "        k = 0\n",
    "        while not to_dec(curr_state) in seen_x:\n",
    "            if k==0:\n",
    "                #print(\"orbite\")\n",
    "                nb_o +=1\n",
    "            k += 1     \n",
    "            seen_x[to_dec(curr_state)] = 1\n",
    "            curr_state = output_of_6bc(c,curr_state)\n",
    "        if p and k != 0:\n",
    "            o_size.append((curr_state,k))\n",
    "    return nb_o"
   ]
  },
  {
   "cell_type": "code",
   "execution_count": 41,
   "metadata": {
    "collapsed": false
   },
   "outputs": [
    {
     "name": "stdout",
     "output_type": "stream",
     "text": [
      "64\n",
      "32\n",
      "48\n",
      "16\n",
      "40\n",
      "24\n",
      "8\n",
      "28\n",
      "12\n",
      "20\n",
      "4\n",
      "36\n",
      "22\n",
      "6\n",
      "14\n",
      "18\n",
      "2\n",
      "10\n"
     ]
    }
   ],
   "source": [
    "orbits = {}\n",
    "for c in c64:\n",
    "    no = how_many_orbits(c)\n",
    "    if not no in orbits:\n",
    "        orbits[no] = []\n",
    "        print(no)\n",
    "    orbits[no].append(c)"
   ]
  },
  {
   "cell_type": "markdown",
   "metadata": {
    "collapsed": false
   },
   "source": [
    "# Conclusion\n",
    "All bijection have at least 2 orbits so there's no counter"
   ]
  },
  {
   "cell_type": "code",
   "execution_count": 46,
   "metadata": {
    "collapsed": false
   },
   "outputs": [],
   "source": [
    "def circuit_to_c(c):\n",
    "    print(c[0][0][0]+c[0][0][1])\n",
    "    print(c[0][1][0]+c[0][1][1]+c[0][1][2]+c[0][1][3])\n",
    "    r = \"\"\n",
    "    for i in range(4):\n",
    "        r += c[0][2][i]+c[1][0][i]\n",
    "    print(r)\n",
    "    print(c[1][1][0]+c[1][1][1]+c[1][1][2]+c[1][1][3])\n",
    "    r = \"\"\n",
    "    for i in range(4):\n",
    "        r += c[1][2][i]+c[2][0][i]\n",
    "    print(r)\n",
    "    print(c[2][1][0]+c[2][1][1]+c[2][1][2]+c[2][1][3])\n",
    "    print(c[2][2][0]+c[2][2][1])"
   ]
  },
  {
   "cell_type": "code",
   "execution_count": 64,
   "metadata": {
    "collapsed": false
   },
   "outputs": [
    {
     "name": "stdout",
     "output_type": "stream",
     "text": [
      "10\n",
      "01001011\n",
      "11100001\n",
      "01001011\n",
      "11100001\n",
      "01001011\n",
      "10\n"
     ]
    }
   ],
   "source": [
    "circuit_to_c(((('1', '0'), ('01', '00', '10', '11'), ('1', '1', '0', '0')),\n",
    "  (('1', '0', '0', '1'), ('01', '00', '10', '11'), ('1', '1', '0', '0')),\n",
    "  (('1', '0', '0', '1'), ('01', '00', '10', '11'), ('1', '0'))))"
   ]
  },
  {
   "cell_type": "code",
   "execution_count": null,
   "metadata": {
    "collapsed": false
   },
   "outputs": [],
   "source": []
  },
  {
   "cell_type": "code",
   "execution_count": null,
   "metadata": {
    "collapsed": true
   },
   "outputs": [],
   "source": []
  }
 ],
 "metadata": {
  "kernelspec": {
   "display_name": "Python 3",
   "language": "python",
   "name": "python3"
  },
  "language_info": {
   "codemirror_mode": {
    "name": "ipython",
    "version": 3
   },
   "file_extension": ".py",
   "mimetype": "text/x-python",
   "name": "python",
   "nbconvert_exporter": "python",
   "pygments_lexer": "ipython3",
   "version": "3.6.0"
  }
 },
 "nbformat": 4,
 "nbformat_minor": 2
}
